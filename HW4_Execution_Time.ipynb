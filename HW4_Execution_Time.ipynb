{
 "cells": [
  {
   "cell_type": "markdown",
   "id": "decimal-bullet",
   "metadata": {},
   "source": [
    "## HW4 - Moody Billah"
   ]
  },
  {
   "cell_type": "markdown",
   "id": "second-photograph",
   "metadata": {},
   "source": [
    "Loading the necessary libraries"
   ]
  },
  {
   "cell_type": "code",
   "execution_count": 1,
   "id": "modified-burns",
   "metadata": {},
   "outputs": [],
   "source": [
    "import time\n",
    "import numpy as np\n",
    "import pandas as pd\n",
    "import matplotlib.pylab as plt\n",
    "from sklearn.naive_bayes import MultinomialNB \n",
    "from sklearn.preprocessing import MinMaxScaler\n",
    "from sklearn.model_selection import train_test_split\n",
    "from sklearn.metrics import plot_confusion_matrix"
   ]
  },
  {
   "cell_type": "markdown",
   "id": "strategic-victory",
   "metadata": {},
   "source": [
    "### Original Time"
   ]
  },
  {
   "cell_type": "markdown",
   "id": "ceramic-investing",
   "metadata": {},
   "source": [
    "The following shows the total execution time for the original code of the modeling process, which is about 641 milliseconds. This is already a very good execution time for the business used case and there is no significant computational bottleneck at any point."
   ]
  },
  {
   "cell_type": "code",
   "execution_count": 2,
   "id": "committed-jersey",
   "metadata": {},
   "outputs": [
    {
     "name": "stdout",
     "output_type": "stream",
     "text": [
      "641 ms ± 99.5 ms per loop (mean ± std. dev. of 7 runs, 1 loop each)\n"
     ]
    }
   ],
   "source": [
    "%%timeit\n",
    "\n",
    "data_path = 'https://raw.githubusercontent.com/ulabox/datasets/master/data/ulabox_orders_with_categories_partials_2017.csv'\n",
    "ulabox_data = pd.read_csv(data_path)\n",
    "\n",
    "ulabox_data.drop(columns=['customer', 'order'], inplace=True)\n",
    "\n",
    "day_names = {1:'Mon', 2:'Tue', 3:'Wed', 4:'Thu', 5:'Fri', 6:'Sat', 7:'Sun'}\n",
    "ulabox_data['weekday'] = ulabox_data['weekday'].replace(day_names)\n",
    "\n",
    "day_order = ['Mon', 'Tue', 'Wed', 'Thu', 'Fri', 'Sat', 'Sun']\n",
    "ulabox_data['weekday'] = ulabox_data['weekday'].astype('category').cat.reorder_categories(day_order)\n",
    "\n",
    "ulabox_data['hour'] = ulabox_data['hour'].astype(str).str.pad(2, fillchar='0') + 'h'\n",
    "\n",
    "ulabox_data.columns = ulabox_data.columns.astype(str).str.replace('%', '')\n",
    "\n",
    "ulabox_data.loc[:,'Food':'Pets'] = ulabox_data.loc[:,'Food':'Pets']/100\n",
    "\n",
    "ulabox_data[['total_items', 'discount']] = MinMaxScaler().fit_transform(ulabox_data[['total_items', 'discount']])\n",
    "\n",
    "ulabox_data = pd.get_dummies(ulabox_data, drop_first=True)\n",
    "\n",
    "ulabox_train, ulabox_test = train_test_split(ulabox_data, test_size=0.2, random_state=100)\n",
    "\n",
    "ulabox_train.reset_index(drop=True, inplace=True)\n",
    "ulabox_test.reset_index(drop=True, inplace=True)\n",
    "\n",
    "response_cols = ulabox_data.loc[:,'Food':'Pets'].columns\n",
    "response_train = ulabox_train[response_cols]\n",
    "response_test = ulabox_test[response_cols]\n",
    "\n",
    "response_train_max = response_train.idxmax(axis='columns')\n",
    "response_test_max = response_test.idxmax(axis='columns')\n",
    "\n",
    "explanatory_train = ulabox_train.drop(columns=response_cols)\n",
    "explanatory_test = ulabox_test.drop(columns=response_cols)\n",
    "\n",
    "priors = list(response_train.mean().sort_index())\n",
    "priors[0] = priors[0] + (1 - sum(priors))\n",
    "\n",
    "model2 = MultinomialNB(class_prior=priors)\n",
    "model2.fit(explanatory_train, response_train_max)\n",
    "\n",
    "response_pred2 = pd.DataFrame(model2.predict_proba(explanatory_test))\n",
    "response_pred2.columns = sorted(response_cols)"
   ]
  },
  {
   "cell_type": "markdown",
   "id": "utility-malawi",
   "metadata": {},
   "source": [
    "### Improved Time"
   ]
  },
  {
   "cell_type": "markdown",
   "id": "suburban-remark",
   "metadata": {},
   "source": [
    "The following shows the total execution time for the code with slight modifications, which is about 549 milliseconds.In lines 18 and 29, the 'loc' function using column labels is replaced with the 'iloc' function using indexes."
   ]
  },
  {
   "cell_type": "code",
   "execution_count": 3,
   "id": "neither-qatar",
   "metadata": {},
   "outputs": [
    {
     "name": "stdout",
     "output_type": "stream",
     "text": [
      "549 ms ± 35.8 ms per loop (mean ± std. dev. of 7 runs, 1 loop each)\n"
     ]
    }
   ],
   "source": [
    "%%timeit\n",
    "\n",
    "data_path = 'https://raw.githubusercontent.com/ulabox/datasets/master/data/ulabox_orders_with_categories_partials_2017.csv'\n",
    "ulabox_data = pd.read_csv(data_path)\n",
    "\n",
    "ulabox_data.drop(columns=['customer', 'order'], inplace=True)\n",
    "\n",
    "day_names = {1:'Mon', 2:'Tue', 3:'Wed', 4:'Thu', 5:'Fri', 6:'Sat', 7:'Sun'}\n",
    "ulabox_data['weekday'] = ulabox_data['weekday'].replace(day_names)\n",
    "\n",
    "day_order = ['Mon', 'Tue', 'Wed', 'Thu', 'Fri', 'Sat', 'Sun']\n",
    "ulabox_data['weekday'] = ulabox_data['weekday'].astype('category').cat.reorder_categories(day_order)\n",
    "\n",
    "ulabox_data['hour'] = ulabox_data['hour'].astype(str).str.pad(2, fillchar='0') + 'h'\n",
    "\n",
    "ulabox_data.columns = ulabox_data.columns.astype(str).str.replace('%', '')\n",
    "\n",
    "ulabox_data.iloc[:, 4:12] = ulabox_data.iloc[:, 4:12]/100\n",
    "\n",
    "ulabox_data[['total_items', 'discount']] = MinMaxScaler().fit_transform(ulabox_data[['total_items', 'discount']])\n",
    "\n",
    "ulabox_data = pd.get_dummies(ulabox_data, drop_first=True)\n",
    "\n",
    "ulabox_train, ulabox_test = train_test_split(ulabox_data, test_size=0.2, random_state=100)\n",
    "\n",
    "ulabox_train.reset_index(drop=True, inplace=True)\n",
    "ulabox_test.reset_index(drop=True, inplace=True)\n",
    "\n",
    "response_cols = ulabox_data.iloc[:, 2:10].columns\n",
    "response_train = ulabox_train[response_cols]\n",
    "response_test = ulabox_test[response_cols]\n",
    "\n",
    "response_train_max = response_train.idxmax(axis='columns')\n",
    "response_test_max = response_test.idxmax(axis='columns')\n",
    "\n",
    "explanatory_train = ulabox_train.drop(columns=response_cols)\n",
    "explanatory_test = ulabox_test.drop(columns=response_cols)\n",
    "\n",
    "priors = list(response_train.mean().sort_index())\n",
    "priors[0] = priors[0] + (1 - sum(priors))\n",
    "\n",
    "model2 = MultinomialNB(class_prior=priors)\n",
    "model2.fit(explanatory_train, response_train_max)\n",
    "\n",
    "response_pred2 = pd.DataFrame(model2.predict_proba(explanatory_test))\n",
    "response_pred2.columns = sorted(response_cols)"
   ]
  },
  {
   "cell_type": "markdown",
   "id": "simplified-discrimination",
   "metadata": {},
   "source": [
    "### Explanation"
   ]
  },
  {
   "cell_type": "markdown",
   "id": "answering-cursor",
   "metadata": {},
   "source": [
    "Since the original execution time is already quite fast, there is not much room for improvement. Most of the changes that were tried actually resulted in a slower execution time, so those changes are not present in the code above. The only change that showed any speed gain was switching from 'loc' to 'iloc', as shown in lines 18 and 29 of the code. However, the average execution time only decreased by 92 milliseconds, which is insignificant for the business used case. Using the 'loc' function may actually be preferable because the explicit column labels make the code more readable."
   ]
  }
 ],
 "metadata": {
  "kernelspec": {
   "display_name": "Python 3",
   "language": "python",
   "name": "python3"
  },
  "language_info": {
   "codemirror_mode": {
    "name": "ipython",
    "version": 3
   },
   "file_extension": ".py",
   "mimetype": "text/x-python",
   "name": "python",
   "nbconvert_exporter": "python",
   "pygments_lexer": "ipython3",
   "version": "3.9.1"
  }
 },
 "nbformat": 4,
 "nbformat_minor": 5
}
