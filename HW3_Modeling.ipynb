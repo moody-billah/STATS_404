{
 "cells": [
  {
   "cell_type": "markdown",
   "id": "decimal-bullet",
   "metadata": {},
   "source": [
    "## HW3 - Moody Billah"
   ]
  },
  {
   "cell_type": "markdown",
   "id": "smoking-bread",
   "metadata": {},
   "source": [
    "Loading the necessary libraries."
   ]
  },
  {
   "cell_type": "code",
   "execution_count": 1,
   "id": "modified-burns",
   "metadata": {},
   "outputs": [],
   "source": [
    "import numpy as np\n",
    "import pandas as pd\n",
    "import matplotlib.pylab as plt\n",
    "from sklearn.naive_bayes import MultinomialNB \n",
    "from sklearn.preprocessing import MinMaxScaler\n",
    "from sklearn.model_selection import train_test_split\n",
    "from sklearn.metrics import plot_confusion_matrix"
   ]
  },
  {
   "cell_type": "markdown",
   "id": "capable-shower",
   "metadata": {},
   "source": [
    "### Data"
   ]
  },
  {
   "cell_type": "markdown",
   "id": "round-bible",
   "metadata": {},
   "source": [
    "Loading and cleaning the dataset by re-using code from HW2_EDA."
   ]
  },
  {
   "cell_type": "code",
   "execution_count": 2,
   "id": "numerous-joint",
   "metadata": {},
   "outputs": [
    {
     "data": {
      "text/html": [
       "<div>\n",
       "<style scoped>\n",
       "    .dataframe tbody tr th:only-of-type {\n",
       "        vertical-align: middle;\n",
       "    }\n",
       "\n",
       "    .dataframe tbody tr th {\n",
       "        vertical-align: top;\n",
       "    }\n",
       "\n",
       "    .dataframe thead th {\n",
       "        text-align: right;\n",
       "    }\n",
       "</style>\n",
       "<table border=\"1\" class=\"dataframe\">\n",
       "  <thead>\n",
       "    <tr style=\"text-align: right;\">\n",
       "      <th></th>\n",
       "      <th>total_items</th>\n",
       "      <th>discount%</th>\n",
       "      <th>weekday</th>\n",
       "      <th>hour</th>\n",
       "      <th>Food%</th>\n",
       "      <th>Fresh%</th>\n",
       "      <th>Drinks%</th>\n",
       "      <th>Home%</th>\n",
       "      <th>Beauty%</th>\n",
       "      <th>Health%</th>\n",
       "      <th>Baby%</th>\n",
       "      <th>Pets%</th>\n",
       "    </tr>\n",
       "  </thead>\n",
       "  <tbody>\n",
       "    <tr>\n",
       "      <th>0</th>\n",
       "      <td>45</td>\n",
       "      <td>23.03</td>\n",
       "      <td>Thu</td>\n",
       "      <td>13h</td>\n",
       "      <td>9.46</td>\n",
       "      <td>87.06</td>\n",
       "      <td>3.48</td>\n",
       "      <td>0.00</td>\n",
       "      <td>0.00</td>\n",
       "      <td>0.00</td>\n",
       "      <td>0.0</td>\n",
       "      <td>0.0</td>\n",
       "    </tr>\n",
       "    <tr>\n",
       "      <th>1</th>\n",
       "      <td>38</td>\n",
       "      <td>1.22</td>\n",
       "      <td>Fri</td>\n",
       "      <td>13h</td>\n",
       "      <td>15.87</td>\n",
       "      <td>75.80</td>\n",
       "      <td>6.22</td>\n",
       "      <td>2.12</td>\n",
       "      <td>0.00</td>\n",
       "      <td>0.00</td>\n",
       "      <td>0.0</td>\n",
       "      <td>0.0</td>\n",
       "    </tr>\n",
       "    <tr>\n",
       "      <th>2</th>\n",
       "      <td>51</td>\n",
       "      <td>18.08</td>\n",
       "      <td>Thu</td>\n",
       "      <td>13h</td>\n",
       "      <td>16.88</td>\n",
       "      <td>56.75</td>\n",
       "      <td>3.37</td>\n",
       "      <td>16.48</td>\n",
       "      <td>6.53</td>\n",
       "      <td>0.00</td>\n",
       "      <td>0.0</td>\n",
       "      <td>0.0</td>\n",
       "    </tr>\n",
       "    <tr>\n",
       "      <th>3</th>\n",
       "      <td>57</td>\n",
       "      <td>16.51</td>\n",
       "      <td>Mon</td>\n",
       "      <td>12h</td>\n",
       "      <td>28.81</td>\n",
       "      <td>35.99</td>\n",
       "      <td>11.78</td>\n",
       "      <td>4.62</td>\n",
       "      <td>2.87</td>\n",
       "      <td>15.92</td>\n",
       "      <td>0.0</td>\n",
       "      <td>0.0</td>\n",
       "    </tr>\n",
       "    <tr>\n",
       "      <th>4</th>\n",
       "      <td>53</td>\n",
       "      <td>18.31</td>\n",
       "      <td>Tue</td>\n",
       "      <td>11h</td>\n",
       "      <td>24.13</td>\n",
       "      <td>60.38</td>\n",
       "      <td>7.78</td>\n",
       "      <td>7.72</td>\n",
       "      <td>0.00</td>\n",
       "      <td>0.00</td>\n",
       "      <td>0.0</td>\n",
       "      <td>0.0</td>\n",
       "    </tr>\n",
       "  </tbody>\n",
       "</table>\n",
       "</div>"
      ],
      "text/plain": [
       "   total_items  discount% weekday hour  Food%  Fresh%  Drinks%  Home%  \\\n",
       "0           45      23.03     Thu  13h   9.46   87.06     3.48   0.00   \n",
       "1           38       1.22     Fri  13h  15.87   75.80     6.22   2.12   \n",
       "2           51      18.08     Thu  13h  16.88   56.75     3.37  16.48   \n",
       "3           57      16.51     Mon  12h  28.81   35.99    11.78   4.62   \n",
       "4           53      18.31     Tue  11h  24.13   60.38     7.78   7.72   \n",
       "\n",
       "   Beauty%  Health%  Baby%  Pets%  \n",
       "0     0.00     0.00    0.0    0.0  \n",
       "1     0.00     0.00    0.0    0.0  \n",
       "2     6.53     0.00    0.0    0.0  \n",
       "3     2.87    15.92    0.0    0.0  \n",
       "4     0.00     0.00    0.0    0.0  "
      ]
     },
     "execution_count": 2,
     "metadata": {},
     "output_type": "execute_result"
    }
   ],
   "source": [
    "data_path = 'https://raw.githubusercontent.com/ulabox/datasets/master/data/ulabox_orders_with_categories_partials_2017.csv'\n",
    "ulabox_data = pd.read_csv(data_path)\n",
    "\n",
    "ulabox_data.drop(columns=['customer', 'order'], inplace=True)\n",
    "\n",
    "day_names = {1:'Mon', 2:'Tue', 3:'Wed', 4:'Thu', 5:'Fri', 6:'Sat', 7:'Sun'}\n",
    "ulabox_data['weekday'] = ulabox_data['weekday'].replace(day_names)\n",
    "\n",
    "day_order = ['Mon', 'Tue', 'Wed', 'Thu', 'Fri', 'Sat', 'Sun']\n",
    "ulabox_data['weekday'] = ulabox_data['weekday'].astype('category').cat.reorder_categories(day_order)\n",
    "\n",
    "ulabox_data['hour'] = ulabox_data['hour'].astype(str).str.pad(2, fillchar='0') + 'h'\n",
    "\n",
    "ulabox_data.head()"
   ]
  },
  {
   "cell_type": "markdown",
   "id": "fatty-medline",
   "metadata": {},
   "source": [
    "### Feature Engineering"
   ]
  },
  {
   "cell_type": "markdown",
   "id": "focal-indianapolis",
   "metadata": {},
   "source": [
    "Converting the response variables to probalities where the value is between 0 and 1."
   ]
  },
  {
   "cell_type": "code",
   "execution_count": 3,
   "id": "muslim-saturn",
   "metadata": {},
   "outputs": [
    {
     "data": {
      "text/html": [
       "<div>\n",
       "<style scoped>\n",
       "    .dataframe tbody tr th:only-of-type {\n",
       "        vertical-align: middle;\n",
       "    }\n",
       "\n",
       "    .dataframe tbody tr th {\n",
       "        vertical-align: top;\n",
       "    }\n",
       "\n",
       "    .dataframe thead th {\n",
       "        text-align: right;\n",
       "    }\n",
       "</style>\n",
       "<table border=\"1\" class=\"dataframe\">\n",
       "  <thead>\n",
       "    <tr style=\"text-align: right;\">\n",
       "      <th></th>\n",
       "      <th>total_items</th>\n",
       "      <th>discount</th>\n",
       "      <th>weekday</th>\n",
       "      <th>hour</th>\n",
       "      <th>Food</th>\n",
       "      <th>Fresh</th>\n",
       "      <th>Drinks</th>\n",
       "      <th>Home</th>\n",
       "      <th>Beauty</th>\n",
       "      <th>Health</th>\n",
       "      <th>Baby</th>\n",
       "      <th>Pets</th>\n",
       "    </tr>\n",
       "  </thead>\n",
       "  <tbody>\n",
       "    <tr>\n",
       "      <th>0</th>\n",
       "      <td>45</td>\n",
       "      <td>23.03</td>\n",
       "      <td>Thu</td>\n",
       "      <td>13h</td>\n",
       "      <td>0.0946</td>\n",
       "      <td>0.8706</td>\n",
       "      <td>0.0348</td>\n",
       "      <td>0.0000</td>\n",
       "      <td>0.0000</td>\n",
       "      <td>0.0000</td>\n",
       "      <td>0.0</td>\n",
       "      <td>0.0</td>\n",
       "    </tr>\n",
       "    <tr>\n",
       "      <th>1</th>\n",
       "      <td>38</td>\n",
       "      <td>1.22</td>\n",
       "      <td>Fri</td>\n",
       "      <td>13h</td>\n",
       "      <td>0.1587</td>\n",
       "      <td>0.7580</td>\n",
       "      <td>0.0622</td>\n",
       "      <td>0.0212</td>\n",
       "      <td>0.0000</td>\n",
       "      <td>0.0000</td>\n",
       "      <td>0.0</td>\n",
       "      <td>0.0</td>\n",
       "    </tr>\n",
       "    <tr>\n",
       "      <th>2</th>\n",
       "      <td>51</td>\n",
       "      <td>18.08</td>\n",
       "      <td>Thu</td>\n",
       "      <td>13h</td>\n",
       "      <td>0.1688</td>\n",
       "      <td>0.5675</td>\n",
       "      <td>0.0337</td>\n",
       "      <td>0.1648</td>\n",
       "      <td>0.0653</td>\n",
       "      <td>0.0000</td>\n",
       "      <td>0.0</td>\n",
       "      <td>0.0</td>\n",
       "    </tr>\n",
       "    <tr>\n",
       "      <th>3</th>\n",
       "      <td>57</td>\n",
       "      <td>16.51</td>\n",
       "      <td>Mon</td>\n",
       "      <td>12h</td>\n",
       "      <td>0.2881</td>\n",
       "      <td>0.3599</td>\n",
       "      <td>0.1178</td>\n",
       "      <td>0.0462</td>\n",
       "      <td>0.0287</td>\n",
       "      <td>0.1592</td>\n",
       "      <td>0.0</td>\n",
       "      <td>0.0</td>\n",
       "    </tr>\n",
       "    <tr>\n",
       "      <th>4</th>\n",
       "      <td>53</td>\n",
       "      <td>18.31</td>\n",
       "      <td>Tue</td>\n",
       "      <td>11h</td>\n",
       "      <td>0.2413</td>\n",
       "      <td>0.6038</td>\n",
       "      <td>0.0778</td>\n",
       "      <td>0.0772</td>\n",
       "      <td>0.0000</td>\n",
       "      <td>0.0000</td>\n",
       "      <td>0.0</td>\n",
       "      <td>0.0</td>\n",
       "    </tr>\n",
       "  </tbody>\n",
       "</table>\n",
       "</div>"
      ],
      "text/plain": [
       "   total_items  discount weekday hour    Food   Fresh  Drinks    Home  Beauty  \\\n",
       "0           45     23.03     Thu  13h  0.0946  0.8706  0.0348  0.0000  0.0000   \n",
       "1           38      1.22     Fri  13h  0.1587  0.7580  0.0622  0.0212  0.0000   \n",
       "2           51     18.08     Thu  13h  0.1688  0.5675  0.0337  0.1648  0.0653   \n",
       "3           57     16.51     Mon  12h  0.2881  0.3599  0.1178  0.0462  0.0287   \n",
       "4           53     18.31     Tue  11h  0.2413  0.6038  0.0778  0.0772  0.0000   \n",
       "\n",
       "   Health  Baby  Pets  \n",
       "0  0.0000   0.0   0.0  \n",
       "1  0.0000   0.0   0.0  \n",
       "2  0.0000   0.0   0.0  \n",
       "3  0.1592   0.0   0.0  \n",
       "4  0.0000   0.0   0.0  "
      ]
     },
     "execution_count": 3,
     "metadata": {},
     "output_type": "execute_result"
    }
   ],
   "source": [
    "ulabox_data.columns = ulabox_data.columns.astype(str).str.replace('%', '')\n",
    "ulabox_data.loc[:,'Food':'Pets'] = ulabox_data.loc[:,'Food':'Pets']/100\n",
    "ulabox_data.head()"
   ]
  },
  {
   "cell_type": "markdown",
   "id": "light-recall",
   "metadata": {},
   "source": [
    "Min-max normalization of continuous explanatory variables so that values are between 0 and 1."
   ]
  },
  {
   "cell_type": "code",
   "execution_count": 4,
   "id": "chubby-telescope",
   "metadata": {},
   "outputs": [
    {
     "data": {
      "text/html": [
       "<div>\n",
       "<style scoped>\n",
       "    .dataframe tbody tr th:only-of-type {\n",
       "        vertical-align: middle;\n",
       "    }\n",
       "\n",
       "    .dataframe tbody tr th {\n",
       "        vertical-align: top;\n",
       "    }\n",
       "\n",
       "    .dataframe thead th {\n",
       "        text-align: right;\n",
       "    }\n",
       "</style>\n",
       "<table border=\"1\" class=\"dataframe\">\n",
       "  <thead>\n",
       "    <tr style=\"text-align: right;\">\n",
       "      <th></th>\n",
       "      <th>total_items</th>\n",
       "      <th>discount</th>\n",
       "      <th>weekday</th>\n",
       "      <th>hour</th>\n",
       "      <th>Food</th>\n",
       "      <th>Fresh</th>\n",
       "      <th>Drinks</th>\n",
       "      <th>Home</th>\n",
       "      <th>Beauty</th>\n",
       "      <th>Health</th>\n",
       "      <th>Baby</th>\n",
       "      <th>Pets</th>\n",
       "    </tr>\n",
       "  </thead>\n",
       "  <tbody>\n",
       "    <tr>\n",
       "      <th>0</th>\n",
       "      <td>0.148148</td>\n",
       "      <td>0.533939</td>\n",
       "      <td>Thu</td>\n",
       "      <td>13h</td>\n",
       "      <td>0.0946</td>\n",
       "      <td>0.8706</td>\n",
       "      <td>0.0348</td>\n",
       "      <td>0.0000</td>\n",
       "      <td>0.0000</td>\n",
       "      <td>0.0000</td>\n",
       "      <td>0.0</td>\n",
       "      <td>0.0</td>\n",
       "    </tr>\n",
       "    <tr>\n",
       "      <th>1</th>\n",
       "      <td>0.124579</td>\n",
       "      <td>0.401877</td>\n",
       "      <td>Fri</td>\n",
       "      <td>13h</td>\n",
       "      <td>0.1587</td>\n",
       "      <td>0.7580</td>\n",
       "      <td>0.0622</td>\n",
       "      <td>0.0212</td>\n",
       "      <td>0.0000</td>\n",
       "      <td>0.0000</td>\n",
       "      <td>0.0</td>\n",
       "      <td>0.0</td>\n",
       "    </tr>\n",
       "    <tr>\n",
       "      <th>2</th>\n",
       "      <td>0.168350</td>\n",
       "      <td>0.503966</td>\n",
       "      <td>Thu</td>\n",
       "      <td>13h</td>\n",
       "      <td>0.1688</td>\n",
       "      <td>0.5675</td>\n",
       "      <td>0.0337</td>\n",
       "      <td>0.1648</td>\n",
       "      <td>0.0653</td>\n",
       "      <td>0.0000</td>\n",
       "      <td>0.0</td>\n",
       "      <td>0.0</td>\n",
       "    </tr>\n",
       "    <tr>\n",
       "      <th>3</th>\n",
       "      <td>0.188552</td>\n",
       "      <td>0.494460</td>\n",
       "      <td>Mon</td>\n",
       "      <td>12h</td>\n",
       "      <td>0.2881</td>\n",
       "      <td>0.3599</td>\n",
       "      <td>0.1178</td>\n",
       "      <td>0.0462</td>\n",
       "      <td>0.0287</td>\n",
       "      <td>0.1592</td>\n",
       "      <td>0.0</td>\n",
       "      <td>0.0</td>\n",
       "    </tr>\n",
       "    <tr>\n",
       "      <th>4</th>\n",
       "      <td>0.175084</td>\n",
       "      <td>0.505359</td>\n",
       "      <td>Tue</td>\n",
       "      <td>11h</td>\n",
       "      <td>0.2413</td>\n",
       "      <td>0.6038</td>\n",
       "      <td>0.0778</td>\n",
       "      <td>0.0772</td>\n",
       "      <td>0.0000</td>\n",
       "      <td>0.0000</td>\n",
       "      <td>0.0</td>\n",
       "      <td>0.0</td>\n",
       "    </tr>\n",
       "  </tbody>\n",
       "</table>\n",
       "</div>"
      ],
      "text/plain": [
       "   total_items  discount weekday hour    Food   Fresh  Drinks    Home  Beauty  \\\n",
       "0     0.148148  0.533939     Thu  13h  0.0946  0.8706  0.0348  0.0000  0.0000   \n",
       "1     0.124579  0.401877     Fri  13h  0.1587  0.7580  0.0622  0.0212  0.0000   \n",
       "2     0.168350  0.503966     Thu  13h  0.1688  0.5675  0.0337  0.1648  0.0653   \n",
       "3     0.188552  0.494460     Mon  12h  0.2881  0.3599  0.1178  0.0462  0.0287   \n",
       "4     0.175084  0.505359     Tue  11h  0.2413  0.6038  0.0778  0.0772  0.0000   \n",
       "\n",
       "   Health  Baby  Pets  \n",
       "0  0.0000   0.0   0.0  \n",
       "1  0.0000   0.0   0.0  \n",
       "2  0.0000   0.0   0.0  \n",
       "3  0.1592   0.0   0.0  \n",
       "4  0.0000   0.0   0.0  "
      ]
     },
     "execution_count": 4,
     "metadata": {},
     "output_type": "execute_result"
    }
   ],
   "source": [
    "ulabox_data[['total_items', 'discount']] = MinMaxScaler().fit_transform(ulabox_data[['total_items', 'discount']])\n",
    "ulabox_data.head()"
   ]
  },
  {
   "cell_type": "markdown",
   "id": "streaming-meeting",
   "metadata": {},
   "source": [
    "One hot encoding of categorical explanatory variables. The base for 'weekday' is 'Mon' and the base for 'hour' is '00h'."
   ]
  },
  {
   "cell_type": "code",
   "execution_count": 5,
   "id": "hungry-virtue",
   "metadata": {},
   "outputs": [
    {
     "data": {
      "text/plain": [
       "Index(['total_items', 'discount', 'Food', 'Fresh', 'Drinks', 'Home', 'Beauty',\n",
       "       'Health', 'Baby', 'Pets', 'weekday_Tue', 'weekday_Wed', 'weekday_Thu',\n",
       "       'weekday_Fri', 'weekday_Sat', 'weekday_Sun', 'hour_01h', 'hour_02h',\n",
       "       'hour_03h', 'hour_04h', 'hour_05h', 'hour_06h', 'hour_07h', 'hour_08h',\n",
       "       'hour_09h', 'hour_10h', 'hour_11h', 'hour_12h', 'hour_13h', 'hour_14h',\n",
       "       'hour_15h', 'hour_16h', 'hour_17h', 'hour_18h', 'hour_19h', 'hour_20h',\n",
       "       'hour_21h', 'hour_22h', 'hour_23h'],\n",
       "      dtype='object')"
      ]
     },
     "execution_count": 5,
     "metadata": {},
     "output_type": "execute_result"
    }
   ],
   "source": [
    "ulabox_data = pd.get_dummies(ulabox_data, drop_first=True)\n",
    "ulabox_data.columns"
   ]
  },
  {
   "cell_type": "markdown",
   "id": "documented-highland",
   "metadata": {},
   "source": [
    "### Modeling"
   ]
  },
  {
   "cell_type": "markdown",
   "id": "identified-agreement",
   "metadata": {},
   "source": [
    "Splitting the data into training and test sets, then separating the response and explanatory variables."
   ]
  },
  {
   "cell_type": "code",
   "execution_count": 6,
   "id": "figured-stephen",
   "metadata": {},
   "outputs": [],
   "source": [
    "ulabox_train, ulabox_test = train_test_split(ulabox_data, test_size=0.2, random_state=100)\n",
    "ulabox_train.reset_index(drop=True, inplace=True)\n",
    "ulabox_test.reset_index(drop=True, inplace=True)\n",
    "\n",
    "response_cols = ulabox_data.loc[:,'Food':'Pets'].columns\n",
    "response_train = ulabox_train[response_cols]\n",
    "response_test = ulabox_test[response_cols]\n",
    "\n",
    "response_train_max = response_train.idxmax(axis='columns')\n",
    "response_test_max = response_test.idxmax(axis='columns')\n",
    "\n",
    "explanatory_train = ulabox_train.drop(columns=response_cols)\n",
    "explanatory_test = ulabox_test.drop(columns=response_cols)"
   ]
  },
  {
   "cell_type": "markdown",
   "id": "piano-scout",
   "metadata": {},
   "source": [
    "Fitting the first model which is a Multinomial Naive Bayes classifier with priors adjusted according to the data."
   ]
  },
  {
   "cell_type": "code",
   "execution_count": 7,
   "id": "clinical-membrane",
   "metadata": {},
   "outputs": [
    {
     "data": {
      "text/plain": [
       "MultinomialNB()"
      ]
     },
     "execution_count": 7,
     "metadata": {},
     "output_type": "execute_result"
    }
   ],
   "source": [
    "model1 = MultinomialNB()\n",
    "model1.fit(explanatory_train, response_train_max)"
   ]
  },
  {
   "cell_type": "markdown",
   "id": "minus-kentucky",
   "metadata": {},
   "source": [
    "The confusion matrix compares the predicted max spend category with the true max spend category. It shows that this is not a good model because most of the points were classified into the Fresh category, so it could not accurately predict the other categories."
   ]
  },
  {
   "cell_type": "code",
   "execution_count": 8,
   "id": "northern-sarah",
   "metadata": {},
   "outputs": [
    {
     "data": {
      "image/png": "[encoded data removed]",
      "text/plain": [
       "<Figure size 576x576 with 2 Axes>"
      ]
     },
     "metadata": {
      "needs_background": "light"
     },
     "output_type": "display_data"
    }
   ],
   "source": [
    "fig, ax = plt.subplots(figsize=(8, 8))\n",
    "plot_confusion_matrix(model1, explanatory_test, response_test_max, ax=ax)\n",
    "plt.show()"
   ]
  },
  {
   "cell_type": "markdown",
   "id": "occasional-argument",
   "metadata": {},
   "source": [
    "The predicted probabilities for each category, which represents the predicted share of spending."
   ]
  },
  {
   "cell_type": "code",
   "execution_count": 9,
   "id": "passive-router",
   "metadata": {},
   "outputs": [
    {
     "data": {
      "text/html": [
       "<div>\n",
       "<style scoped>\n",
       "    .dataframe tbody tr th:only-of-type {\n",
       "        vertical-align: middle;\n",
       "    }\n",
       "\n",
       "    .dataframe tbody tr th {\n",
       "        vertical-align: top;\n",
       "    }\n",
       "\n",
       "    .dataframe thead th {\n",
       "        text-align: right;\n",
       "    }\n",
       "</style>\n",
       "<table border=\"1\" class=\"dataframe\">\n",
       "  <thead>\n",
       "    <tr style=\"text-align: right;\">\n",
       "      <th></th>\n",
       "      <th>Baby</th>\n",
       "      <th>Beauty</th>\n",
       "      <th>Drinks</th>\n",
       "      <th>Food</th>\n",
       "      <th>Fresh</th>\n",
       "      <th>Health</th>\n",
       "      <th>Home</th>\n",
       "      <th>Pets</th>\n",
       "    </tr>\n",
       "  </thead>\n",
       "  <tbody>\n",
       "    <tr>\n",
       "      <th>0</th>\n",
       "      <td>0.090366</td>\n",
       "      <td>0.019817</td>\n",
       "      <td>0.248627</td>\n",
       "      <td>0.221015</td>\n",
       "      <td>0.304962</td>\n",
       "      <td>0.007867</td>\n",
       "      <td>0.102646</td>\n",
       "      <td>0.004699</td>\n",
       "    </tr>\n",
       "    <tr>\n",
       "      <th>1</th>\n",
       "      <td>0.131110</td>\n",
       "      <td>0.011975</td>\n",
       "      <td>0.267890</td>\n",
       "      <td>0.214284</td>\n",
       "      <td>0.240783</td>\n",
       "      <td>0.005960</td>\n",
       "      <td>0.114763</td>\n",
       "      <td>0.013234</td>\n",
       "    </tr>\n",
       "    <tr>\n",
       "      <th>2</th>\n",
       "      <td>0.085705</td>\n",
       "      <td>0.039234</td>\n",
       "      <td>0.261286</td>\n",
       "      <td>0.228633</td>\n",
       "      <td>0.282775</td>\n",
       "      <td>0.006396</td>\n",
       "      <td>0.091530</td>\n",
       "      <td>0.004443</td>\n",
       "    </tr>\n",
       "    <tr>\n",
       "      <th>3</th>\n",
       "      <td>0.096537</td>\n",
       "      <td>0.021962</td>\n",
       "      <td>0.280920</td>\n",
       "      <td>0.237241</td>\n",
       "      <td>0.230073</td>\n",
       "      <td>0.005878</td>\n",
       "      <td>0.119754</td>\n",
       "      <td>0.007636</td>\n",
       "    </tr>\n",
       "    <tr>\n",
       "      <th>4</th>\n",
       "      <td>0.110756</td>\n",
       "      <td>0.031448</td>\n",
       "      <td>0.216146</td>\n",
       "      <td>0.245970</td>\n",
       "      <td>0.265197</td>\n",
       "      <td>0.003987</td>\n",
       "      <td>0.118064</td>\n",
       "      <td>0.008433</td>\n",
       "    </tr>\n",
       "  </tbody>\n",
       "</table>\n",
       "</div>"
      ],
      "text/plain": [
       "       Baby    Beauty    Drinks      Food     Fresh    Health      Home  \\\n",
       "0  0.090366  0.019817  0.248627  0.221015  0.304962  0.007867  0.102646   \n",
       "1  0.131110  0.011975  0.267890  0.214284  0.240783  0.005960  0.114763   \n",
       "2  0.085705  0.039234  0.261286  0.228633  0.282775  0.006396  0.091530   \n",
       "3  0.096537  0.021962  0.280920  0.237241  0.230073  0.005878  0.119754   \n",
       "4  0.110756  0.031448  0.216146  0.245970  0.265197  0.003987  0.118064   \n",
       "\n",
       "       Pets  \n",
       "0  0.004699  \n",
       "1  0.013234  \n",
       "2  0.004443  \n",
       "3  0.007636  \n",
       "4  0.008433  "
      ]
     },
     "execution_count": 9,
     "metadata": {},
     "output_type": "execute_result"
    }
   ],
   "source": [
    "response_pred1 = pd.DataFrame(model1.predict_proba(explanatory_test))\n",
    "response_pred1.columns = sorted(response_cols)\n",
    "response_pred1.head()"
   ]
  },
  {
   "cell_type": "markdown",
   "id": "downtown-seminar",
   "metadata": {},
   "source": [
    "The mean absolute error between the predicted and true share of each category. The error values are quite high because the model misclassified many points."
   ]
  },
  {
   "cell_type": "code",
   "execution_count": 10,
   "id": "weekly-people",
   "metadata": {},
   "outputs": [
    {
     "data": {
      "text/plain": [
       "Baby      0.178470\n",
       "Beauty    0.066184\n",
       "Drinks    0.165970\n",
       "Food      0.161041\n",
       "Fresh     0.212353\n",
       "Health    0.015508\n",
       "Home      0.124686\n",
       "Pets      0.017513\n",
       "dtype: float64"
      ]
     },
     "execution_count": 10,
     "metadata": {},
     "output_type": "execute_result"
    }
   ],
   "source": [
    "abs(response_test - response_pred1).mean()"
   ]
  },
  {
   "cell_type": "markdown",
   "id": "binding-approach",
   "metadata": {},
   "source": [
    "Setting the fixed priors as the mean of each response category."
   ]
  },
  {
   "cell_type": "code",
   "execution_count": 11,
   "id": "perfect-meaning",
   "metadata": {},
   "outputs": [],
   "source": [
    "priors = list(response_train.mean().sort_index())\n",
    "priors[0] = priors[0] + (1 - sum(priors))"
   ]
  },
  {
   "cell_type": "markdown",
   "id": "comparable-wedding",
   "metadata": {},
   "source": [
    "Fitting the second model which is a Multinomial Naive Bayes classifier with fixed priors."
   ]
  },
  {
   "cell_type": "code",
   "execution_count": 12,
   "id": "available-negotiation",
   "metadata": {},
   "outputs": [
    {
     "data": {
      "text/plain": [
       "MultinomialNB(class_prior=[0.11302656666666666, 0.059004383333333334,\n",
       "                           0.23503395833333335, 0.234795625,\n",
       "                           0.20092989166666667, 0.011331308333333335,\n",
       "                           0.13577545, 0.010102816666666667])"
      ]
     },
     "execution_count": 12,
     "metadata": {},
     "output_type": "execute_result"
    }
   ],
   "source": [
    "model2 = MultinomialNB(class_prior=priors)\n",
    "model2.fit(explanatory_train, response_train_max)"
   ]
  },
  {
   "cell_type": "markdown",
   "id": "civic-remainder",
   "metadata": {},
   "source": [
    "The confusion matrix compares the predicted max spend category with the true max spend category. It shows that this is a more balanced model because most of the points were classified into 3 categories rather than 1. However, this model still lacks prediction accuracy."
   ]
  },
  {
   "cell_type": "code",
   "execution_count": 13,
   "id": "insured-oriental",
   "metadata": {},
   "outputs": [
    {
     "data": {
      "image/png": "[encoded data removed]",
      "text/plain": [
       "<Figure size 576x576 with 2 Axes>"
      ]
     },
     "metadata": {
      "needs_background": "light"
     },
     "output_type": "display_data"
    }
   ],
   "source": [
    "fig, ax = plt.subplots(figsize=(8, 8))\n",
    "plot_confusion_matrix(model2, explanatory_test, response_test_max, ax=ax)\n",
    "plt.show()"
   ]
  },
  {
   "cell_type": "markdown",
   "id": "searching-publicity",
   "metadata": {},
   "source": [
    "The predicted probabilities for each category, which represents the predicted share of spending."
   ]
  },
  {
   "cell_type": "code",
   "execution_count": 14,
   "id": "annual-labor",
   "metadata": {},
   "outputs": [
    {
     "data": {
      "text/html": [
       "<div>\n",
       "<style scoped>\n",
       "    .dataframe tbody tr th:only-of-type {\n",
       "        vertical-align: middle;\n",
       "    }\n",
       "\n",
       "    .dataframe tbody tr th {\n",
       "        vertical-align: top;\n",
       "    }\n",
       "\n",
       "    .dataframe thead th {\n",
       "        text-align: right;\n",
       "    }\n",
       "</style>\n",
       "<table border=\"1\" class=\"dataframe\">\n",
       "  <thead>\n",
       "    <tr style=\"text-align: right;\">\n",
       "      <th></th>\n",
       "      <th>Baby</th>\n",
       "      <th>Beauty</th>\n",
       "      <th>Drinks</th>\n",
       "      <th>Food</th>\n",
       "      <th>Fresh</th>\n",
       "      <th>Health</th>\n",
       "      <th>Home</th>\n",
       "      <th>Pets</th>\n",
       "    </tr>\n",
       "  </thead>\n",
       "  <tbody>\n",
       "    <tr>\n",
       "      <th>0</th>\n",
       "      <td>0.075984</td>\n",
       "      <td>0.036614</td>\n",
       "      <td>0.263631</td>\n",
       "      <td>0.237202</td>\n",
       "      <td>0.234616</td>\n",
       "      <td>0.017169</td>\n",
       "      <td>0.127626</td>\n",
       "      <td>0.007156</td>\n",
       "    </tr>\n",
       "    <tr>\n",
       "      <th>1</th>\n",
       "      <td>0.109423</td>\n",
       "      <td>0.021961</td>\n",
       "      <td>0.281943</td>\n",
       "      <td>0.228267</td>\n",
       "      <td>0.183863</td>\n",
       "      <td>0.012910</td>\n",
       "      <td>0.141629</td>\n",
       "      <td>0.020003</td>\n",
       "    </tr>\n",
       "    <tr>\n",
       "      <th>2</th>\n",
       "      <td>0.070717</td>\n",
       "      <td>0.071131</td>\n",
       "      <td>0.271873</td>\n",
       "      <td>0.240789</td>\n",
       "      <td>0.213478</td>\n",
       "      <td>0.013697</td>\n",
       "      <td>0.111676</td>\n",
       "      <td>0.006639</td>\n",
       "    </tr>\n",
       "    <tr>\n",
       "      <th>3</th>\n",
       "      <td>0.079225</td>\n",
       "      <td>0.039603</td>\n",
       "      <td>0.290724</td>\n",
       "      <td>0.248505</td>\n",
       "      <td>0.172753</td>\n",
       "      <td>0.012519</td>\n",
       "      <td>0.145323</td>\n",
       "      <td>0.011348</td>\n",
       "    </tr>\n",
       "    <tr>\n",
       "      <th>4</th>\n",
       "      <td>0.091593</td>\n",
       "      <td>0.057144</td>\n",
       "      <td>0.225410</td>\n",
       "      <td>0.259631</td>\n",
       "      <td>0.200659</td>\n",
       "      <td>0.008558</td>\n",
       "      <td>0.144374</td>\n",
       "      <td>0.012630</td>\n",
       "    </tr>\n",
       "  </tbody>\n",
       "</table>\n",
       "</div>"
      ],
      "text/plain": [
       "       Baby    Beauty    Drinks      Food     Fresh    Health      Home  \\\n",
       "0  0.075984  0.036614  0.263631  0.237202  0.234616  0.017169  0.127626   \n",
       "1  0.109423  0.021961  0.281943  0.228267  0.183863  0.012910  0.141629   \n",
       "2  0.070717  0.071131  0.271873  0.240789  0.213478  0.013697  0.111676   \n",
       "3  0.079225  0.039603  0.290724  0.248505  0.172753  0.012519  0.145323   \n",
       "4  0.091593  0.057144  0.225410  0.259631  0.200659  0.008558  0.144374   \n",
       "\n",
       "       Pets  \n",
       "0  0.007156  \n",
       "1  0.020003  \n",
       "2  0.006639  \n",
       "3  0.011348  \n",
       "4  0.012630  "
      ]
     },
     "execution_count": 14,
     "metadata": {},
     "output_type": "execute_result"
    }
   ],
   "source": [
    "response_pred2 = pd.DataFrame(model2.predict_proba(explanatory_test))\n",
    "response_pred2.columns = sorted(response_cols)\n",
    "response_pred2.head()"
   ]
  },
  {
   "cell_type": "markdown",
   "id": "ranking-headquarters",
   "metadata": {},
   "source": [
    "The mean absolute error between the predicted and true share of each category. The error values are still quite high because the model could not accurately classify most points."
   ]
  },
  {
   "cell_type": "code",
   "execution_count": 15,
   "id": "surrounded-england",
   "metadata": {},
   "outputs": [
    {
     "data": {
      "text/plain": [
       "Baby      0.165672\n",
       "Beauty    0.076177\n",
       "Drinks    0.168314\n",
       "Food      0.162780\n",
       "Fresh     0.196593\n",
       "Health    0.020410\n",
       "Home      0.131239\n",
       "Pets      0.020445\n",
       "dtype: float64"
      ]
     },
     "execution_count": 15,
     "metadata": {},
     "output_type": "execute_result"
    }
   ],
   "source": [
    "abs(response_test - response_pred2).mean()"
   ]
  },
  {
   "cell_type": "markdown",
   "id": "threaded-reggae",
   "metadata": {},
   "source": [
    "### Answering Business Question"
   ]
  },
  {
   "cell_type": "markdown",
   "id": "beginning-owner",
   "metadata": {},
   "source": [
    "When a new order is initiated, the business will use the predicted probabilities for each response category to represent the predicted share of customer spending. The share of product recommendations per category will be based on those predictions. \n",
    "\n",
    "Since the current model is not very accurate, implementing the predictions may not have a significant impact on increasing customer spending. This is largely due to limitations in the data provided. However, this model is a good starting point and better models can be built afterwards if more relevant data is collected."
   ]
  }
 ],
 "metadata": {
  "kernelspec": {
   "display_name": "Python 3",
   "language": "python",
   "name": "python3"
  },
  "language_info": {
   "codemirror_mode": {
    "name": "ipython",
    "version": 3
   },
   "file_extension": ".py",
   "mimetype": "text/x-python",
   "name": "python",
   "nbconvert_exporter": "python",
   "pygments_lexer": "ipython3",
   "version": "3.9.1"
  }
 },
 "nbformat": 4,
 "nbformat_minor": 5
}
